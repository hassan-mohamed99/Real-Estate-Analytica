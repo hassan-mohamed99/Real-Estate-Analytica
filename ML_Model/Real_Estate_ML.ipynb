{
 "cells": [
  {
   "cell_type": "code",
   "execution_count": 14,
   "id": "567d22d7",
   "metadata": {},
   "outputs": [],
   "source": [
    "import pandas as pd\n",
    "from sklearn.model_selection import train_test_split\n",
    "from sklearn.ensemble import RandomForestRegressor\n",
    "from sklearn.metrics import r2_score, mean_squared_error\n",
    "import numpy as np\n",
    "import joblib\n",
    "\n",
    "# reading data\n",
    "df = pd.read_excel(r\"C:\\Users\\B.C.S\\Downloads\\dataset\\Housing dataset - Copy (2).xlsx\")\n",
    "# columns name\n",
    "print(\"Columns in dataset:\", df.columns.tolist())\n"
   ]
  },
  {
   "cell_type": "code",
   "execution_count": 2,
   "id": "8c756072",
   "metadata": {},
   "outputs": [],
   "source": [
    "# preparing data\n",
    "y = df[\"price\"]\n",
    "# Features\n",
    "X = df.drop(columns=[\"price\", \"Property location\"])\n"
   ]
  },
  {
   "cell_type": "code",
   "execution_count": 3,
   "id": "bb7b34af",
   "metadata": {},
   "outputs": [],
   "source": [
    "# splitting data\n",
    "X_train, X_test, y_train, y_test = train_test_split(X, y, test_size=0.2, random_state=42)"
   ]
  },
  {
   "cell_type": "code",
   "execution_count": 4,
   "id": "174f109b",
   "metadata": {},
   "outputs": [
    {
     "data": {
      "text/plain": [
       "RandomForestRegressor(random_state=42)"
      ]
     },
     "execution_count": 4,
     "metadata": {},
     "output_type": "execute_result"
    }
   ],
   "source": [
    "# create the model training\n",
    "rf_model = RandomForestRegressor(n_estimators=100, random_state=42)\n",
    "rf_model.fit(X_train, y_train)"
   ]
  },
  {
   "cell_type": "code",
   "execution_count": 5,
   "id": "772e8b9b",
   "metadata": {},
   "outputs": [
    {
     "name": "stdout",
     "output_type": "stream",
     "text": [
      " Model saved as house_price_random_forest.pkl\n"
     ]
    }
   ],
   "source": [
    "# save the model\n",
    "joblib.dump(rf_model, \"house_price_random_forest.pkl\")\n",
    "print(\" Model saved as house_price_random_forest.pkl\")"
   ]
  },
  {
   "cell_type": "code",
   "execution_count": 6,
   "id": "4ec11aa3",
   "metadata": {},
   "outputs": [],
   "source": [
    "# load the model\n",
    "loaded_model = joblib.load(\"house_price_random_forest.pkl\")"
   ]
  },
  {
   "cell_type": "code",
   "execution_count": 7,
   "id": "36d73109",
   "metadata": {},
   "outputs": [],
   "source": [
    "# predicting (tested data)\n",
    "y_pred = loaded_model.predict(X_test)"
   ]
  },
  {
   "cell_type": "code",
   "execution_count": 8,
   "id": "af248280",
   "metadata": {},
   "outputs": [
    {
     "name": "stdout",
     "output_type": "stream",
     "text": [
      "R² Score: 0.86\n",
      "RMSE: 143,320\n"
     ]
    }
   ],
   "source": [
    "# evaluation the model\n",
    "r2 = r2_score(y_test, y_pred)\n",
    "rmse = np.sqrt(mean_squared_error(y_test, y_pred))\n",
    "print(f\"R² Score: {r2:.2f}\")\n",
    "print(f\"RMSE: {rmse:,.0f}\")"
   ]
  },
  {
   "cell_type": "code",
   "execution_count": 9,
   "id": "d8f5b85a",
   "metadata": {},
   "outputs": [
    {
     "name": "stdout",
     "output_type": "stream",
     "text": [
      "Predicted price: 373316.08\n",
      "Actual price: 365000\n"
     ]
    }
   ],
   "source": [
    "# predicting (sample data) \n",
    "sample_data = X_test.iloc[0]\n",
    "predicted_price = loaded_model.predict([sample_data])\n",
    "print(\"Predicted price:\", round(predicted_price[0], 2))\n",
    "print(\"Actual price:\", y_test.iloc[0])"
   ]
  },
  {
   "cell_type": "markdown",
   "id": "19a5e4f2",
   "metadata": {},
   "source": [
    "# predict for new house"
   ]
  },
  {
   "cell_type": "code",
   "execution_count": 13,
   "id": "a56e4149",
   "metadata": {},
   "outputs": [
    {
     "name": "stdout",
     "output_type": "stream",
     "text": [
      "predicted price: 652975.02 Dollars\n"
     ]
    }
   ],
   "source": [
    "# load the saved model\n",
    "model = joblib.load(\"house_price_random_forest.pkl\")\n",
    "\n",
    "new_house = pd.DataFrame([{\n",
    "    \"Arizona\": 0,  \n",
    "    \"California\": 1,\n",
    "    \"Connecticut\": 0,\n",
    "    \"Florida\": 0,\n",
    "    \"Georgia\":0,\n",
    "    \"Hawaii\":0,\n",
    "    \"Condition\": 7,  \n",
    "    \"yr_built\": 2010,\n",
    "    \"yr_renovated\": 0,\n",
    "    \"floors\":0,\n",
    "    \"bedrooms\":1,\n",
    "    \"waterfront\":1,\n",
    "    \"sqft_living\":1180 ,\n",
    "    \"sqft_lot\":1150,\n",
    "    \"sqft_above\":1180,\n",
    "    \"sqft_living15\":1340,\n",
    "    \"sqft_lot15\":5650,\n",
    "    \"lat\":47.5,\n",
    "    \"long\":47.5,\n",
    "    \"sqft_basement\":300,\n",
    "    \"grade\":8,\n",
    "    \"view\":0,\n",
    "\n",
    "}])\n",
    "\n",
    "predicted_price = model.predict(new_house)\n",
    "print(\"predicted price:\", round(predicted_price[0], 2), \"Dollars\")\n"
   ]
  }
 ],
 "metadata": {
  "kernelspec": {
   "display_name": "Python 3",
   "language": "python",
   "name": "python3"
  },
  "language_info": {
   "codemirror_mode": {
    "name": "ipython",
    "version": 3
   },
   "file_extension": ".py",
   "mimetype": "text/x-python",
   "name": "python",
   "nbconvert_exporter": "python",
   "pygments_lexer": "ipython3",
   "version": "3.8.8"
  }
 },
 "nbformat": 4,
 "nbformat_minor": 5
}
